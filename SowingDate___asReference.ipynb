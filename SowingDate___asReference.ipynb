{
 "cells": [
  {
   "cell_type": "code",
   "execution_count": 1,
   "id": "4f07a2ae",
   "metadata": {},
   "outputs": [],
   "source": [
    "from dateutil.relativedelta import *\n",
    "import calendar\n",
    "from pandas import read_csv\n",
    "from dateutil import parser\n",
    "import numpy as np\n",
    "from scipy.optimize import curve_fit\n",
    "from dateutil.parser import parse \n",
    "import matplotlib as mpl\n",
    "import matplotlib.pyplot as plt\n",
    "import seaborn as sns\n",
    "import numpy as np\n",
    "import pandas as pd\n",
    "from datetime import datetime, timedelta\n",
    "from datetime import *\n",
    "import os\n",
    "from dateutil.relativedelta import relativedelta, MO\n",
    "from tqdm import tqdm\n",
    "\n"
   ]
  },
  {
   "cell_type": "code",
   "execution_count": 2,
   "id": "34686e30",
   "metadata": {},
   "outputs": [],
   "source": [
    "plt.style.use('seaborn')\n",
    "df = pd.read_csv(\"potato_variety_NDVI.csv\")\n"
   ]
  },
  {
   "cell_type": "code",
   "execution_count": 3,
   "id": "bd117e1b",
   "metadata": {},
   "outputs": [],
   "source": [
    "ids = []\n",
    "for col in df.columns:\n",
    "    ids.append(col)"
   ]
  },
  {
   "cell_type": "code",
   "execution_count": 4,
   "id": "d9d0eff3",
   "metadata": {},
   "outputs": [
    {
     "data": {
      "text/plain": [
       "['SowingDate',\n",
       " 'Variety_x',\n",
       " '2019-10-07',\n",
       " '2019-10-12',\n",
       " '2019-10-20',\n",
       " '2019-10-25',\n",
       " '2019-11-01',\n",
       " '2019-11-11',\n",
       " '2019-11-14',\n",
       " '2019-11-19',\n",
       " '2019-11-26',\n",
       " '2019-12-09',\n",
       " '2019-12-16',\n",
       " '2019-12-19',\n",
       " '2019-12-26',\n",
       " '2020-01-01',\n",
       " '2020-01-13',\n",
       " '2020-01-20',\n",
       " '2020-01-25',\n",
       " '2020-01-28',\n",
       " '2020-02-04',\n",
       " '2020-02-15',\n",
       " '2020-02-19',\n",
       " '2020-02-29',\n",
       " '2020-03-05',\n",
       " '2020-03-16',\n",
       " '2020-03-20',\n",
       " '2020-03-26',\n",
       " '2020-03-31',\n",
       " '2020-04-07',\n",
       " '2020-04-17',\n",
       " '2020-04-22',\n",
       " 'Har_date']"
      ]
     },
     "execution_count": 4,
     "metadata": {},
     "output_type": "execute_result"
    }
   ],
   "source": [
    "ids"
   ]
  },
  {
   "cell_type": "code",
   "execution_count": 5,
   "id": "b290b3d0",
   "metadata": {},
   "outputs": [],
   "source": [
    "variety = list(set(df.iloc[:,1]))\n",
    "df['SowingDate'] = pd.to_datetime(df['SowingDate'])\n"
   ]
  },
  {
   "cell_type": "code",
   "execution_count": 6,
   "id": "bb011263",
   "metadata": {},
   "outputs": [],
   "source": [
    "T=365.2425"
   ]
  },
  {
   "cell_type": "code",
   "execution_count": 7,
   "id": "100f4051",
   "metadata": {},
   "outputs": [],
   "source": [
    "def CCDC(t, c0, c1, a1, b1, a2, b2, a3, b3):\n",
    "    return c0 + c1*t \\\n",
    "        + a1*np.cos(2*np.pi*1*t/T) + b1*np.sin(2*np.pi*1*t/T) \\\n",
    "        + a2*np.cos(2*np.pi*2*t/T) + b2*np.sin(2*np.pi*2*t/T) \\\n",
    "        + a3*np.cos(2*np.pi*3*t/T) + b3*np.sin(2*np.pi*3*t/T)"
   ]
  },
  {
   "cell_type": "code",
   "execution_count": 8,
   "id": "025df681",
   "metadata": {},
   "outputs": [],
   "source": [
    "list_date = list(df.columns.values)"
   ]
  },
  {
   "cell_type": "code",
   "execution_count": 9,
   "id": "6edea5c0",
   "metadata": {},
   "outputs": [
    {
     "data": {
      "text/plain": [
       "['SowingDate',\n",
       " 'Variety_x',\n",
       " '2019-10-07',\n",
       " '2019-10-12',\n",
       " '2019-10-20',\n",
       " '2019-10-25',\n",
       " '2019-11-01',\n",
       " '2019-11-11',\n",
       " '2019-11-14',\n",
       " '2019-11-19',\n",
       " '2019-11-26',\n",
       " '2019-12-09',\n",
       " '2019-12-16',\n",
       " '2019-12-19',\n",
       " '2019-12-26',\n",
       " '2020-01-01',\n",
       " '2020-01-13',\n",
       " '2020-01-20',\n",
       " '2020-01-25',\n",
       " '2020-01-28',\n",
       " '2020-02-04',\n",
       " '2020-02-15',\n",
       " '2020-02-19',\n",
       " '2020-02-29',\n",
       " '2020-03-05',\n",
       " '2020-03-16',\n",
       " '2020-03-20',\n",
       " '2020-03-26',\n",
       " '2020-03-31',\n",
       " '2020-04-07',\n",
       " '2020-04-17',\n",
       " '2020-04-22',\n",
       " 'Har_date']"
      ]
     },
     "execution_count": 9,
     "metadata": {},
     "output_type": "execute_result"
    }
   ],
   "source": [
    "list_date                          #this represent index row values"
   ]
  },
  {
   "cell_type": "code",
   "execution_count": 10,
   "id": "96ff672d",
   "metadata": {},
   "outputs": [],
   "source": [
    "list_date.remove('SowingDate')\n",
    "list_date.remove('Variety_x')\n",
    "list_date.remove('Har_date')\n"
   ]
  },
  {
   "cell_type": "code",
   "execution_count": 34,
   "id": "b1285f73",
   "metadata": {},
   "outputs": [
    {
     "data": {
      "text/plain": [
       "['2019-10-07',\n",
       " '2019-10-12',\n",
       " '2019-10-20',\n",
       " '2019-10-25',\n",
       " '2019-11-01',\n",
       " '2019-11-11',\n",
       " '2019-11-14',\n",
       " '2019-11-19',\n",
       " '2019-11-26',\n",
       " '2019-12-09',\n",
       " '2019-12-16',\n",
       " '2019-12-19',\n",
       " '2019-12-26',\n",
       " '2020-01-01',\n",
       " '2020-01-13',\n",
       " '2020-01-20',\n",
       " '2020-01-25',\n",
       " '2020-01-28',\n",
       " '2020-02-04',\n",
       " '2020-02-15',\n",
       " '2020-02-19',\n",
       " '2020-02-29',\n",
       " '2020-03-05',\n",
       " '2020-03-16',\n",
       " '2020-03-20',\n",
       " '2020-03-26',\n",
       " '2020-03-31',\n",
       " '2020-04-07',\n",
       " '2020-04-17',\n",
       " '2020-04-22']"
      ]
     },
     "execution_count": 34,
     "metadata": {},
     "output_type": "execute_result"
    }
   ],
   "source": [
    "list_date"
   ]
  },
  {
   "cell_type": "code",
   "execution_count": 35,
   "id": "30e83085",
   "metadata": {},
   "outputs": [],
   "source": [
    "listDateArr = np.array(list_date)"
   ]
  },
  {
   "cell_type": "code",
   "execution_count": 36,
   "id": "3f8e9fc0",
   "metadata": {},
   "outputs": [],
   "source": [
    "listSowingDate = []                                     #this represent column values\n",
    "listSowingDate = list(df['SowingDate'])"
   ]
  },
  {
   "cell_type": "code",
   "execution_count": null,
   "id": "4ef2dc01",
   "metadata": {},
   "outputs": [],
   "source": []
  },
  {
   "cell_type": "code",
   "execution_count": 37,
   "id": "2ebc18f7",
   "metadata": {},
   "outputs": [],
   "source": [
    "#SowingDate as reference date"
   ]
  },
  {
   "cell_type": "code",
   "execution_count": 38,
   "id": "fec14ccf",
   "metadata": {},
   "outputs": [],
   "source": [
    "#rd=[]\n",
    "#for i in range(len(list_date)):\n",
    "#    rd.append(parser.parse(list_date[i]) - ref_date)"
   ]
  },
  {
   "cell_type": "code",
   "execution_count": 39,
   "id": "7d18e034",
   "metadata": {},
   "outputs": [],
   "source": [
    "##newDays = []\n",
    "#for i in range(len(rd)):\n",
    "#    newDays.append(rd[i].days)\n"
   ]
  },
  {
   "cell_type": "code",
   "execution_count": 40,
   "id": "65d5c6c8",
   "metadata": {},
   "outputs": [],
   "source": [
    "#listdateArr = np.array(newDays)"
   ]
  },
  {
   "cell_type": "code",
   "execution_count": 41,
   "id": "ded3d13e",
   "metadata": {},
   "outputs": [],
   "source": [
    "coeff_dict = {\n",
    "    'variety': [] , \n",
    "    'c0' : [],\n",
    "    'c1' : [],\n",
    "    'a1' : [],\n",
    "    'b1' : [],\n",
    "    'a2' : [],\n",
    "    'b2' : [],\n",
    "    'a3' : [],\n",
    "    'b3' : [],\n",
    "    \n",
    "}\n"
   ]
  },
  {
   "cell_type": "code",
   "execution_count": 42,
   "id": "7e93f73a",
   "metadata": {},
   "outputs": [],
   "source": [
    "#listSowingDate = []\n",
    "#listSowingDate = list(df['SowingDate'])"
   ]
  },
  {
   "cell_type": "code",
   "execution_count": 43,
   "id": "96dc7286",
   "metadata": {},
   "outputs": [],
   "source": [
    "#rd_SowDays = []\n",
    "#for i in range(len(listSowingDate)):\n",
    " #   rd_SowDays.append((listSowingDate[i]) - ref_date)"
   ]
  },
  {
   "cell_type": "code",
   "execution_count": 44,
   "id": "9947eeb1",
   "metadata": {},
   "outputs": [],
   "source": [
    "#SowDays = []\n",
    "#for i in range(len(rd_SowDays)):\n",
    " #   SowDays.append(rd_SowDays[i].days)\n"
   ]
  },
  {
   "cell_type": "code",
   "execution_count": 110,
   "id": "f7146f51",
   "metadata": {},
   "outputs": [],
   "source": [
    "n = 10\n",
    "df2 = df.head(int(len(df)*(n/100)))"
   ]
  },
  {
   "cell_type": "code",
   "execution_count": 46,
   "id": "84b40797",
   "metadata": {},
   "outputs": [],
   "source": [
    "df2.to_csv( 'C:/Users/rocke/Downloads/0.01Shortdataset.csv')"
   ]
  },
  {
   "cell_type": "code",
   "execution_count": 47,
   "id": "2368f83b",
   "metadata": {},
   "outputs": [],
   "source": [
    "new_df = pd.read_csv('0.01Shortdataset.csv')"
   ]
  },
  {
   "cell_type": "code",
   "execution_count": 48,
   "id": "9525ad6e",
   "metadata": {},
   "outputs": [],
   "source": [
    "#column_indices = [2,3,4,5,6,7,8,9,10,11,12,13,14,15,16,17,18,19,20,21,22,23,24,25,26,27,28,29,30,31,32]\n",
    "#new_names = newDays\n",
    "#old_names = df2.columns[column_indices]\n",
    "#df2.rename(columns=dict(zip(old_names, new_names)), inplace=True)\n",
    "    \n",
    "    "
   ]
  },
  {
   "cell_type": "code",
   "execution_count": 49,
   "id": "a3c71051",
   "metadata": {},
   "outputs": [],
   "source": [
    "#SowArr = np.array(SowDays)"
   ]
  },
  {
   "cell_type": "code",
   "execution_count": 50,
   "id": "81919ee4",
   "metadata": {},
   "outputs": [],
   "source": [
    "#df2.SowingDate = df.SowingDate - ref_date"
   ]
  },
  {
   "cell_type": "code",
   "execution_count": 51,
   "id": "178fac3a",
   "metadata": {},
   "outputs": [],
   "source": [
    "pd.options.display.max_rows = 22371"
   ]
  },
  {
   "cell_type": "code",
   "execution_count": 52,
   "id": "dcdf684b",
   "metadata": {},
   "outputs": [],
   "source": [
    "df['Har_date'] = pd.to_datetime(df['Har_date'])"
   ]
  },
  {
   "cell_type": "code",
   "execution_count": 53,
   "id": "e8a8bda5",
   "metadata": {},
   "outputs": [],
   "source": [
    "#df2.Har_date = (df.Har_date) - ref_date"
   ]
  },
  {
   "cell_type": "code",
   "execution_count": 54,
   "id": "d320af4c",
   "metadata": {
    "scrolled": true
   },
   "outputs": [
    {
     "data": {
      "text/html": [
       "<div>\n",
       "<style scoped>\n",
       "    .dataframe tbody tr th:only-of-type {\n",
       "        vertical-align: middle;\n",
       "    }\n",
       "\n",
       "    .dataframe tbody tr th {\n",
       "        vertical-align: top;\n",
       "    }\n",
       "\n",
       "    .dataframe thead th {\n",
       "        text-align: right;\n",
       "    }\n",
       "</style>\n",
       "<table border=\"1\" class=\"dataframe\">\n",
       "  <thead>\n",
       "    <tr style=\"text-align: right;\">\n",
       "      <th></th>\n",
       "      <th>SowingDate</th>\n",
       "      <th>Variety_x</th>\n",
       "      <th>2019-10-07</th>\n",
       "      <th>2019-10-12</th>\n",
       "      <th>2019-10-20</th>\n",
       "      <th>2019-10-25</th>\n",
       "      <th>2019-11-01</th>\n",
       "      <th>2019-11-11</th>\n",
       "      <th>2019-11-14</th>\n",
       "      <th>2019-11-19</th>\n",
       "      <th>...</th>\n",
       "      <th>2020-02-29</th>\n",
       "      <th>2020-03-05</th>\n",
       "      <th>2020-03-16</th>\n",
       "      <th>2020-03-20</th>\n",
       "      <th>2020-03-26</th>\n",
       "      <th>2020-03-31</th>\n",
       "      <th>2020-04-07</th>\n",
       "      <th>2020-04-17</th>\n",
       "      <th>2020-04-22</th>\n",
       "      <th>Har_date</th>\n",
       "    </tr>\n",
       "  </thead>\n",
       "  <tbody>\n",
       "    <tr>\n",
       "      <th>0</th>\n",
       "      <td>2019-11-19</td>\n",
       "      <td>M-39</td>\n",
       "      <td>0.3888</td>\n",
       "      <td>0.4437</td>\n",
       "      <td>0.2536</td>\n",
       "      <td>0.2590</td>\n",
       "      <td>0.2576</td>\n",
       "      <td>0.2048</td>\n",
       "      <td>0.1951</td>\n",
       "      <td>0.1555</td>\n",
       "      <td>...</td>\n",
       "      <td>0.6358</td>\n",
       "      <td>0.5008</td>\n",
       "      <td>0.3316</td>\n",
       "      <td>0.3171</td>\n",
       "      <td>0.1931</td>\n",
       "      <td>0.1713</td>\n",
       "      <td>0.1667</td>\n",
       "      <td>0.0286</td>\n",
       "      <td>0.1709</td>\n",
       "      <td>2020-03-16</td>\n",
       "    </tr>\n",
       "    <tr>\n",
       "      <th>1</th>\n",
       "      <td>2019-11-19</td>\n",
       "      <td>M-39</td>\n",
       "      <td>0.4383</td>\n",
       "      <td>0.5073</td>\n",
       "      <td>0.2368</td>\n",
       "      <td>0.2404</td>\n",
       "      <td>0.2122</td>\n",
       "      <td>0.1766</td>\n",
       "      <td>0.1829</td>\n",
       "      <td>0.1563</td>\n",
       "      <td>...</td>\n",
       "      <td>0.5991</td>\n",
       "      <td>0.4402</td>\n",
       "      <td>0.3153</td>\n",
       "      <td>0.2164</td>\n",
       "      <td>0.1798</td>\n",
       "      <td>0.1664</td>\n",
       "      <td>0.1672</td>\n",
       "      <td>0.0139</td>\n",
       "      <td>0.1723</td>\n",
       "      <td>2020-03-16</td>\n",
       "    </tr>\n",
       "    <tr>\n",
       "      <th>2</th>\n",
       "      <td>2019-11-19</td>\n",
       "      <td>M-39</td>\n",
       "      <td>0.3626</td>\n",
       "      <td>0.3917</td>\n",
       "      <td>0.2305</td>\n",
       "      <td>0.2473</td>\n",
       "      <td>0.2243</td>\n",
       "      <td>0.1764</td>\n",
       "      <td>0.1739</td>\n",
       "      <td>0.1574</td>\n",
       "      <td>...</td>\n",
       "      <td>0.6883</td>\n",
       "      <td>0.4953</td>\n",
       "      <td>0.3109</td>\n",
       "      <td>0.2360</td>\n",
       "      <td>0.1883</td>\n",
       "      <td>0.1654</td>\n",
       "      <td>0.1644</td>\n",
       "      <td>0.0210</td>\n",
       "      <td>0.1651</td>\n",
       "      <td>2020-03-16</td>\n",
       "    </tr>\n",
       "    <tr>\n",
       "      <th>3</th>\n",
       "      <td>2019-11-19</td>\n",
       "      <td>M-39</td>\n",
       "      <td>0.3608</td>\n",
       "      <td>0.3101</td>\n",
       "      <td>0.2226</td>\n",
       "      <td>0.2407</td>\n",
       "      <td>0.2109</td>\n",
       "      <td>0.1781</td>\n",
       "      <td>0.1566</td>\n",
       "      <td>0.1557</td>\n",
       "      <td>...</td>\n",
       "      <td>0.7047</td>\n",
       "      <td>0.5241</td>\n",
       "      <td>0.3120</td>\n",
       "      <td>0.2729</td>\n",
       "      <td>0.1803</td>\n",
       "      <td>0.1695</td>\n",
       "      <td>0.1692</td>\n",
       "      <td>0.0252</td>\n",
       "      <td>0.1603</td>\n",
       "      <td>2020-03-16</td>\n",
       "    </tr>\n",
       "    <tr>\n",
       "      <th>4</th>\n",
       "      <td>2019-11-19</td>\n",
       "      <td>M-39</td>\n",
       "      <td>0.3656</td>\n",
       "      <td>0.2750</td>\n",
       "      <td>0.2258</td>\n",
       "      <td>0.2522</td>\n",
       "      <td>0.2366</td>\n",
       "      <td>0.1722</td>\n",
       "      <td>0.1753</td>\n",
       "      <td>0.1487</td>\n",
       "      <td>...</td>\n",
       "      <td>0.7164</td>\n",
       "      <td>0.5291</td>\n",
       "      <td>0.3165</td>\n",
       "      <td>0.3133</td>\n",
       "      <td>0.1903</td>\n",
       "      <td>0.1662</td>\n",
       "      <td>0.1645</td>\n",
       "      <td>0.0268</td>\n",
       "      <td>0.1657</td>\n",
       "      <td>2020-03-16</td>\n",
       "    </tr>\n",
       "  </tbody>\n",
       "</table>\n",
       "<p>5 rows × 33 columns</p>\n",
       "</div>"
      ],
      "text/plain": [
       "  SowingDate Variety_x  2019-10-07  2019-10-12  2019-10-20  2019-10-25  \\\n",
       "0 2019-11-19      M-39      0.3888      0.4437      0.2536      0.2590   \n",
       "1 2019-11-19      M-39      0.4383      0.5073      0.2368      0.2404   \n",
       "2 2019-11-19      M-39      0.3626      0.3917      0.2305      0.2473   \n",
       "3 2019-11-19      M-39      0.3608      0.3101      0.2226      0.2407   \n",
       "4 2019-11-19      M-39      0.3656      0.2750      0.2258      0.2522   \n",
       "\n",
       "   2019-11-01  2019-11-11  2019-11-14  2019-11-19  ...  2020-02-29  \\\n",
       "0      0.2576      0.2048      0.1951      0.1555  ...      0.6358   \n",
       "1      0.2122      0.1766      0.1829      0.1563  ...      0.5991   \n",
       "2      0.2243      0.1764      0.1739      0.1574  ...      0.6883   \n",
       "3      0.2109      0.1781      0.1566      0.1557  ...      0.7047   \n",
       "4      0.2366      0.1722      0.1753      0.1487  ...      0.7164   \n",
       "\n",
       "   2020-03-05  2020-03-16  2020-03-20  2020-03-26  2020-03-31  2020-04-07  \\\n",
       "0      0.5008      0.3316      0.3171      0.1931      0.1713      0.1667   \n",
       "1      0.4402      0.3153      0.2164      0.1798      0.1664      0.1672   \n",
       "2      0.4953      0.3109      0.2360      0.1883      0.1654      0.1644   \n",
       "3      0.5241      0.3120      0.2729      0.1803      0.1695      0.1692   \n",
       "4      0.5291      0.3165      0.3133      0.1903      0.1662      0.1645   \n",
       "\n",
       "   2020-04-17  2020-04-22   Har_date  \n",
       "0      0.0286      0.1709 2020-03-16  \n",
       "1      0.0139      0.1723 2020-03-16  \n",
       "2      0.0210      0.1651 2020-03-16  \n",
       "3      0.0252      0.1603 2020-03-16  \n",
       "4      0.0268      0.1657 2020-03-16  \n",
       "\n",
       "[5 rows x 33 columns]"
      ]
     },
     "execution_count": 54,
     "metadata": {},
     "output_type": "execute_result"
    }
   ],
   "source": [
    "df2.head()"
   ]
  },
  {
   "cell_type": "code",
   "execution_count": 55,
   "id": "b7e9731e",
   "metadata": {},
   "outputs": [
    {
     "data": {
      "text/html": [
       "<div>\n",
       "<style scoped>\n",
       "    .dataframe tbody tr th:only-of-type {\n",
       "        vertical-align: middle;\n",
       "    }\n",
       "\n",
       "    .dataframe tbody tr th {\n",
       "        vertical-align: top;\n",
       "    }\n",
       "\n",
       "    .dataframe thead th {\n",
       "        text-align: right;\n",
       "    }\n",
       "</style>\n",
       "<table border=\"1\" class=\"dataframe\">\n",
       "  <thead>\n",
       "    <tr style=\"text-align: right;\">\n",
       "      <th></th>\n",
       "      <th>SowingDate</th>\n",
       "      <th>Variety_x</th>\n",
       "      <th>2019-10-07</th>\n",
       "      <th>2019-10-12</th>\n",
       "      <th>2019-10-20</th>\n",
       "      <th>2019-10-25</th>\n",
       "      <th>2019-11-01</th>\n",
       "      <th>2019-11-11</th>\n",
       "      <th>2019-11-14</th>\n",
       "      <th>2019-11-19</th>\n",
       "      <th>...</th>\n",
       "      <th>2020-02-29</th>\n",
       "      <th>2020-03-05</th>\n",
       "      <th>2020-03-16</th>\n",
       "      <th>2020-03-20</th>\n",
       "      <th>2020-03-26</th>\n",
       "      <th>2020-03-31</th>\n",
       "      <th>2020-04-07</th>\n",
       "      <th>2020-04-17</th>\n",
       "      <th>2020-04-22</th>\n",
       "      <th>Har_date</th>\n",
       "    </tr>\n",
       "  </thead>\n",
       "  <tbody>\n",
       "    <tr>\n",
       "      <th>0</th>\n",
       "      <td>2019-11-19</td>\n",
       "      <td>M-39</td>\n",
       "      <td>0.3888</td>\n",
       "      <td>0.4437</td>\n",
       "      <td>0.2536</td>\n",
       "      <td>0.2590</td>\n",
       "      <td>0.2576</td>\n",
       "      <td>0.2048</td>\n",
       "      <td>0.1951</td>\n",
       "      <td>0.1555</td>\n",
       "      <td>...</td>\n",
       "      <td>0.6358</td>\n",
       "      <td>0.5008</td>\n",
       "      <td>0.3316</td>\n",
       "      <td>0.3171</td>\n",
       "      <td>0.1931</td>\n",
       "      <td>0.1713</td>\n",
       "      <td>0.1667</td>\n",
       "      <td>0.0286</td>\n",
       "      <td>0.1709</td>\n",
       "      <td>2020-03-16</td>\n",
       "    </tr>\n",
       "    <tr>\n",
       "      <th>1</th>\n",
       "      <td>2019-11-19</td>\n",
       "      <td>M-39</td>\n",
       "      <td>0.4383</td>\n",
       "      <td>0.5073</td>\n",
       "      <td>0.2368</td>\n",
       "      <td>0.2404</td>\n",
       "      <td>0.2122</td>\n",
       "      <td>0.1766</td>\n",
       "      <td>0.1829</td>\n",
       "      <td>0.1563</td>\n",
       "      <td>...</td>\n",
       "      <td>0.5991</td>\n",
       "      <td>0.4402</td>\n",
       "      <td>0.3153</td>\n",
       "      <td>0.2164</td>\n",
       "      <td>0.1798</td>\n",
       "      <td>0.1664</td>\n",
       "      <td>0.1672</td>\n",
       "      <td>0.0139</td>\n",
       "      <td>0.1723</td>\n",
       "      <td>2020-03-16</td>\n",
       "    </tr>\n",
       "    <tr>\n",
       "      <th>2</th>\n",
       "      <td>2019-11-19</td>\n",
       "      <td>M-39</td>\n",
       "      <td>0.3626</td>\n",
       "      <td>0.3917</td>\n",
       "      <td>0.2305</td>\n",
       "      <td>0.2473</td>\n",
       "      <td>0.2243</td>\n",
       "      <td>0.1764</td>\n",
       "      <td>0.1739</td>\n",
       "      <td>0.1574</td>\n",
       "      <td>...</td>\n",
       "      <td>0.6883</td>\n",
       "      <td>0.4953</td>\n",
       "      <td>0.3109</td>\n",
       "      <td>0.2360</td>\n",
       "      <td>0.1883</td>\n",
       "      <td>0.1654</td>\n",
       "      <td>0.1644</td>\n",
       "      <td>0.0210</td>\n",
       "      <td>0.1651</td>\n",
       "      <td>2020-03-16</td>\n",
       "    </tr>\n",
       "    <tr>\n",
       "      <th>3</th>\n",
       "      <td>2019-11-19</td>\n",
       "      <td>M-39</td>\n",
       "      <td>0.3608</td>\n",
       "      <td>0.3101</td>\n",
       "      <td>0.2226</td>\n",
       "      <td>0.2407</td>\n",
       "      <td>0.2109</td>\n",
       "      <td>0.1781</td>\n",
       "      <td>0.1566</td>\n",
       "      <td>0.1557</td>\n",
       "      <td>...</td>\n",
       "      <td>0.7047</td>\n",
       "      <td>0.5241</td>\n",
       "      <td>0.3120</td>\n",
       "      <td>0.2729</td>\n",
       "      <td>0.1803</td>\n",
       "      <td>0.1695</td>\n",
       "      <td>0.1692</td>\n",
       "      <td>0.0252</td>\n",
       "      <td>0.1603</td>\n",
       "      <td>2020-03-16</td>\n",
       "    </tr>\n",
       "    <tr>\n",
       "      <th>4</th>\n",
       "      <td>2019-11-19</td>\n",
       "      <td>M-39</td>\n",
       "      <td>0.3656</td>\n",
       "      <td>0.2750</td>\n",
       "      <td>0.2258</td>\n",
       "      <td>0.2522</td>\n",
       "      <td>0.2366</td>\n",
       "      <td>0.1722</td>\n",
       "      <td>0.1753</td>\n",
       "      <td>0.1487</td>\n",
       "      <td>...</td>\n",
       "      <td>0.7164</td>\n",
       "      <td>0.5291</td>\n",
       "      <td>0.3165</td>\n",
       "      <td>0.3133</td>\n",
       "      <td>0.1903</td>\n",
       "      <td>0.1662</td>\n",
       "      <td>0.1645</td>\n",
       "      <td>0.0268</td>\n",
       "      <td>0.1657</td>\n",
       "      <td>2020-03-16</td>\n",
       "    </tr>\n",
       "    <tr>\n",
       "      <th>...</th>\n",
       "      <td>...</td>\n",
       "      <td>...</td>\n",
       "      <td>...</td>\n",
       "      <td>...</td>\n",
       "      <td>...</td>\n",
       "      <td>...</td>\n",
       "      <td>...</td>\n",
       "      <td>...</td>\n",
       "      <td>...</td>\n",
       "      <td>...</td>\n",
       "      <td>...</td>\n",
       "      <td>...</td>\n",
       "      <td>...</td>\n",
       "      <td>...</td>\n",
       "      <td>...</td>\n",
       "      <td>...</td>\n",
       "      <td>...</td>\n",
       "      <td>...</td>\n",
       "      <td>...</td>\n",
       "      <td>...</td>\n",
       "      <td>...</td>\n",
       "    </tr>\n",
       "    <tr>\n",
       "      <th>223714</th>\n",
       "      <td>2019-10-31</td>\n",
       "      <td>K.frysona</td>\n",
       "      <td>0.6195</td>\n",
       "      <td>0.3391</td>\n",
       "      <td>0.1800</td>\n",
       "      <td>0.1590</td>\n",
       "      <td>0.0901</td>\n",
       "      <td>0.1234</td>\n",
       "      <td>0.1103</td>\n",
       "      <td>0.0934</td>\n",
       "      <td>...</td>\n",
       "      <td>0.1475</td>\n",
       "      <td>0.1509</td>\n",
       "      <td>0.1689</td>\n",
       "      <td>0.2022</td>\n",
       "      <td>0.2899</td>\n",
       "      <td>0.3917</td>\n",
       "      <td>0.4498</td>\n",
       "      <td>0.5460</td>\n",
       "      <td>0.5984</td>\n",
       "      <td>2020-02-20</td>\n",
       "    </tr>\n",
       "    <tr>\n",
       "      <th>223715</th>\n",
       "      <td>2019-10-31</td>\n",
       "      <td>K.frysona</td>\n",
       "      <td>0.6778</td>\n",
       "      <td>0.3568</td>\n",
       "      <td>0.1652</td>\n",
       "      <td>0.1419</td>\n",
       "      <td>0.0750</td>\n",
       "      <td>0.1153</td>\n",
       "      <td>0.0929</td>\n",
       "      <td>0.0895</td>\n",
       "      <td>...</td>\n",
       "      <td>0.1338</td>\n",
       "      <td>0.1430</td>\n",
       "      <td>0.1668</td>\n",
       "      <td>0.1995</td>\n",
       "      <td>0.2902</td>\n",
       "      <td>0.3523</td>\n",
       "      <td>0.4514</td>\n",
       "      <td>0.5522</td>\n",
       "      <td>0.5940</td>\n",
       "      <td>2020-02-20</td>\n",
       "    </tr>\n",
       "    <tr>\n",
       "      <th>223716</th>\n",
       "      <td>2019-10-31</td>\n",
       "      <td>K.frysona</td>\n",
       "      <td>0.6844</td>\n",
       "      <td>0.3514</td>\n",
       "      <td>0.1602</td>\n",
       "      <td>0.1372</td>\n",
       "      <td>0.0716</td>\n",
       "      <td>0.1128</td>\n",
       "      <td>0.0890</td>\n",
       "      <td>0.0923</td>\n",
       "      <td>...</td>\n",
       "      <td>0.1347</td>\n",
       "      <td>0.1420</td>\n",
       "      <td>0.1678</td>\n",
       "      <td>0.2013</td>\n",
       "      <td>0.2928</td>\n",
       "      <td>0.3514</td>\n",
       "      <td>0.4496</td>\n",
       "      <td>0.5513</td>\n",
       "      <td>0.5946</td>\n",
       "      <td>2020-02-20</td>\n",
       "    </tr>\n",
       "    <tr>\n",
       "      <th>223717</th>\n",
       "      <td>2019-10-31</td>\n",
       "      <td>K.frysona</td>\n",
       "      <td>0.3794</td>\n",
       "      <td>0.3231</td>\n",
       "      <td>0.1702</td>\n",
       "      <td>0.1555</td>\n",
       "      <td>0.0947</td>\n",
       "      <td>0.1315</td>\n",
       "      <td>0.1328</td>\n",
       "      <td>0.0766</td>\n",
       "      <td>...</td>\n",
       "      <td>0.1513</td>\n",
       "      <td>0.1628</td>\n",
       "      <td>0.1829</td>\n",
       "      <td>0.2290</td>\n",
       "      <td>0.4019</td>\n",
       "      <td>0.5970</td>\n",
       "      <td>0.5951</td>\n",
       "      <td>0.6249</td>\n",
       "      <td>0.6184</td>\n",
       "      <td>2020-02-20</td>\n",
       "    </tr>\n",
       "    <tr>\n",
       "      <th>223718</th>\n",
       "      <td>2019-10-31</td>\n",
       "      <td>K.frysona</td>\n",
       "      <td>0.4199</td>\n",
       "      <td>0.3404</td>\n",
       "      <td>0.1733</td>\n",
       "      <td>0.1663</td>\n",
       "      <td>0.0956</td>\n",
       "      <td>0.1395</td>\n",
       "      <td>0.1378</td>\n",
       "      <td>0.0805</td>\n",
       "      <td>...</td>\n",
       "      <td>0.1531</td>\n",
       "      <td>0.1656</td>\n",
       "      <td>0.1842</td>\n",
       "      <td>0.2262</td>\n",
       "      <td>0.3846</td>\n",
       "      <td>0.5755</td>\n",
       "      <td>0.5739</td>\n",
       "      <td>0.6116</td>\n",
       "      <td>0.6152</td>\n",
       "      <td>2020-02-20</td>\n",
       "    </tr>\n",
       "  </tbody>\n",
       "</table>\n",
       "<p>223719 rows × 33 columns</p>\n",
       "</div>"
      ],
      "text/plain": [
       "       SowingDate  Variety_x  2019-10-07  2019-10-12  2019-10-20  2019-10-25  \\\n",
       "0      2019-11-19       M-39      0.3888      0.4437      0.2536      0.2590   \n",
       "1      2019-11-19       M-39      0.4383      0.5073      0.2368      0.2404   \n",
       "2      2019-11-19       M-39      0.3626      0.3917      0.2305      0.2473   \n",
       "3      2019-11-19       M-39      0.3608      0.3101      0.2226      0.2407   \n",
       "4      2019-11-19       M-39      0.3656      0.2750      0.2258      0.2522   \n",
       "...           ...        ...         ...         ...         ...         ...   \n",
       "223714 2019-10-31  K.frysona      0.6195      0.3391      0.1800      0.1590   \n",
       "223715 2019-10-31  K.frysona      0.6778      0.3568      0.1652      0.1419   \n",
       "223716 2019-10-31  K.frysona      0.6844      0.3514      0.1602      0.1372   \n",
       "223717 2019-10-31  K.frysona      0.3794      0.3231      0.1702      0.1555   \n",
       "223718 2019-10-31  K.frysona      0.4199      0.3404      0.1733      0.1663   \n",
       "\n",
       "        2019-11-01  2019-11-11  2019-11-14  2019-11-19  ...  2020-02-29  \\\n",
       "0           0.2576      0.2048      0.1951      0.1555  ...      0.6358   \n",
       "1           0.2122      0.1766      0.1829      0.1563  ...      0.5991   \n",
       "2           0.2243      0.1764      0.1739      0.1574  ...      0.6883   \n",
       "3           0.2109      0.1781      0.1566      0.1557  ...      0.7047   \n",
       "4           0.2366      0.1722      0.1753      0.1487  ...      0.7164   \n",
       "...            ...         ...         ...         ...  ...         ...   \n",
       "223714      0.0901      0.1234      0.1103      0.0934  ...      0.1475   \n",
       "223715      0.0750      0.1153      0.0929      0.0895  ...      0.1338   \n",
       "223716      0.0716      0.1128      0.0890      0.0923  ...      0.1347   \n",
       "223717      0.0947      0.1315      0.1328      0.0766  ...      0.1513   \n",
       "223718      0.0956      0.1395      0.1378      0.0805  ...      0.1531   \n",
       "\n",
       "        2020-03-05  2020-03-16  2020-03-20  2020-03-26  2020-03-31  \\\n",
       "0           0.5008      0.3316      0.3171      0.1931      0.1713   \n",
       "1           0.4402      0.3153      0.2164      0.1798      0.1664   \n",
       "2           0.4953      0.3109      0.2360      0.1883      0.1654   \n",
       "3           0.5241      0.3120      0.2729      0.1803      0.1695   \n",
       "4           0.5291      0.3165      0.3133      0.1903      0.1662   \n",
       "...            ...         ...         ...         ...         ...   \n",
       "223714      0.1509      0.1689      0.2022      0.2899      0.3917   \n",
       "223715      0.1430      0.1668      0.1995      0.2902      0.3523   \n",
       "223716      0.1420      0.1678      0.2013      0.2928      0.3514   \n",
       "223717      0.1628      0.1829      0.2290      0.4019      0.5970   \n",
       "223718      0.1656      0.1842      0.2262      0.3846      0.5755   \n",
       "\n",
       "        2020-04-07  2020-04-17  2020-04-22   Har_date  \n",
       "0           0.1667      0.0286      0.1709 2020-03-16  \n",
       "1           0.1672      0.0139      0.1723 2020-03-16  \n",
       "2           0.1644      0.0210      0.1651 2020-03-16  \n",
       "3           0.1692      0.0252      0.1603 2020-03-16  \n",
       "4           0.1645      0.0268      0.1657 2020-03-16  \n",
       "...            ...         ...         ...        ...  \n",
       "223714      0.4498      0.5460      0.5984 2020-02-20  \n",
       "223715      0.4514      0.5522      0.5940 2020-02-20  \n",
       "223716      0.4496      0.5513      0.5946 2020-02-20  \n",
       "223717      0.5951      0.6249      0.6184 2020-02-20  \n",
       "223718      0.5739      0.6116      0.6152 2020-02-20  \n",
       "\n",
       "[223719 rows x 33 columns]"
      ]
     },
     "execution_count": 55,
     "metadata": {},
     "output_type": "execute_result"
    }
   ],
   "source": [
    "df"
   ]
  },
  {
   "cell_type": "code",
   "execution_count": 56,
   "id": "54aa02b7",
   "metadata": {},
   "outputs": [],
   "source": []
  },
  {
   "cell_type": "code",
   "execution_count": 136,
   "id": "460c83f1",
   "metadata": {
    "scrolled": true
   },
   "outputs": [
    {
     "name": "stderr",
     "output_type": "stream",
     "text": [
      "100%|███████████████████████████████████████████████████████████████████████████| 22371/22371 [02:15<00:00, 164.60it/s]\n"
     ]
    }
   ],
   "source": [
    "coeff_dict_new = {\n",
    "    'rows': [],\n",
    "    'variety': [] , \n",
    "    'c0' : [],\n",
    "    'c1' : [],\n",
    "    'a1' : [],\n",
    "    'b1' : [],\n",
    "    'a2' : [],\n",
    "    'b2' : [],\n",
    "    'a3' : [],\n",
    "    'b3' : [],\n",
    "}\n",
    "n = 10\n",
    "df2 = df.head(int(len(df)*(n/100)))\n",
    "from tqdm import tqdm\n",
    "\n",
    "\n",
    "for pivot1, row in tqdm(df2.iterrows(),total = len(df2)):\n",
    "    ref_date = (df2[\"SowingDate\"][pivot1])\n",
    "    rd=[]\n",
    "    ro = []\n",
    "    for pivot2 in range(2,len(df2.columns)-1):\n",
    "        if (parser.parse(list_date[pivot2-2]) - ref_date).total_seconds()>0:\n",
    "            rd.append(str((parser.parse(list_date[pivot2-2]) - ref_date).total_seconds()))\n",
    "            ro.append(row[pivot2])\n",
    "        #df2.SowingDate[pivot1] = df.SowingDate[pivot1] - ref_date\n",
    "        #df2.Har_date[pivot1] = (df.Har_date[pivot1]) - ref_date\n",
    "        \n",
    "        \n",
    "        #if (df2['Har_date'][pivot1].total_seconds() >= (parser.parse(df2.columns.values[pivot2])- ref_date).total_seconds()) and (parser.parse(df2.columns.values[pivot2])- ref_date).total_seconds()>0:\n",
    "    popt, _pcov = curve_fit(CCDC, rd, ro)\n",
    "    variety = df2[\"Variety_x\"][pivot1]\n",
    "\n",
    "\n",
    "    c0,c1,a1, b1, a2, b2, a3, b3 = popt\n",
    "    coeff_dict_new['variety'].append(variety)\n",
    "    coeff_dict_new['rows'].append(ro)\n",
    "    coeff_dict_new['c0'].append(c0)\n",
    "    coeff_dict_new['c1'].append(c1)\n",
    "    coeff_dict_new['a1'].append(a1)\n",
    "    coeff_dict_new['b1'].append(b1)\n",
    "    coeff_dict_new['a2'].append(a2)\n",
    "    coeff_dict_new['b2'].append(b2)\n",
    "    coeff_dict_new['a3'].append(a3)\n",
    "    coeff_dict_new['b3'].append(b3)  \n"
   ]
  },
  {
   "cell_type": "code",
   "execution_count": null,
   "id": "17833503",
   "metadata": {},
   "outputs": [],
   "source": [
    "column_indices = [2,3,4,5,6,7,8,9,10,11,12,13,14,15,16,17,18,19,20,21,22,23,24,25,26,27,28,29,30,31,32]\n",
    "new_names = rd\n",
    "old_names = df2.columns[column_indices]\n",
    "df2.rename(columns=dict(zip(old_names, new_names)), inplace=True)"
   ]
  },
  {
   "cell_type": "code",
   "execution_count": null,
   "id": "b20bb9ad",
   "metadata": {},
   "outputs": [],
   "source": [
    "(df2[\"SowingDate\"][2]).days"
   ]
  },
  {
   "cell_type": "code",
   "execution_count": null,
   "id": "4c027434",
   "metadata": {},
   "outputs": [],
   "source": [
    "len(df2.columns)"
   ]
  },
  {
   "cell_type": "code",
   "execution_count": null,
   "id": "e1a50193",
   "metadata": {},
   "outputs": [],
   "source": [
    "coeff_dict_new"
   ]
  },
  {
   "cell_type": "code",
   "execution_count": 133,
   "id": "17b33a41",
   "metadata": {},
   "outputs": [],
   "source": [
    "coeff_df_new = pd.DataFrame(data = coeff_dict_new)\n",
    "coeff_df_new.to_csv('sow_date_ref.csv')"
   ]
  },
  {
   "cell_type": "code",
   "execution_count": 134,
   "id": "d0c9dc6e",
   "metadata": {},
   "outputs": [],
   "source": [
    "df_coeff_new = pd.read_csv(\"sow_date_ref.csv\")"
   ]
  },
  {
   "cell_type": "code",
   "execution_count": 59,
   "id": "33307949",
   "metadata": {},
   "outputs": [
    {
     "data": {
      "text/plain": [
       "str"
      ]
     },
     "execution_count": 59,
     "metadata": {},
     "output_type": "execute_result"
    }
   ],
   "source": [
    "type((df2.columns.values[pivot2]))"
   ]
  },
  {
   "cell_type": "code",
   "execution_count": 142,
   "id": "bf03b870",
   "metadata": {},
   "outputs": [
    {
     "data": {
      "text/plain": [
       "[<matplotlib.lines.Line2D at 0x19c22364310>]"
      ]
     },
     "execution_count": 142,
     "metadata": {},
     "output_type": "execute_result"
    },
    {
     "data": {
      "image/png": "[encoded data removed]",
      "text/plain": [
       "<Figure size 576x396 with 1 Axes>"
      ]
     },
     "metadata": {},
     "output_type": "display_data"
    }
   ],
   "source": [
    "import matplotlib.pyplot as plt\n",
    "t=coeff_dict_new['rows'][2]\n",
    "c0=coeff_dict_new['c0'][2]\n",
    "c1=coeff_dict_new['c1'][2]\n",
    "a1=coeff_dict_new['a1'][2]\n",
    "b1=coeff_dict_new['b1'][2]\n",
    "a2=coeff_dict_new['a2'][2]\n",
    "b2=coeff_dict_new['b2'][2]\n",
    "a3=coeff_dict_new['a3'][2]\n",
    "b3=coeff_dict_new['b3'][2]  \n",
    "x = [CCDC(i, c0, c1, a1, b1, a2, b2, a3, b3) for i in t]\n",
    "plt.plot(x,t)"
   ]
  },
  {
   "cell_type": "code",
   "execution_count": 140,
   "id": "397eef21",
   "metadata": {},
   "outputs": [
    {
     "data": {
      "text/plain": [
       "(0.5350413798327129,\n",
       " -1.7033204532664256e-08,\n",
       " -0.05129307555221188,\n",
       " -0.011174630812063924,\n",
       " -0.04187525535583656,\n",
       " -0.01393571992902605,\n",
       " -0.10354288463329397,\n",
       " 0.05797367898141846)"
      ]
     },
     "execution_count": 140,
     "metadata": {},
     "output_type": "execute_result"
    }
   ],
   "source": [
    "c0, c1, a1, b1, a2, b2, a3, b3"
   ]
  },
  {
   "cell_type": "code",
   "execution_count": null,
   "id": "0dfa5be1",
   "metadata": {},
   "outputs": [],
   "source": [
    "from sklearn.ensemble import RandomForestClassifier\n",
    "from sklearn.datasets import make_classification\n",
    "X, y = make_classification(n_samples=1000, n_features=4,\n",
    "                            n_informative=2, n_redundant=0,\n",
    "                            random_state=0, shuffle=False)\n",
    "clf = RandomForestClassifier(max_depth=2, random_state=0)\n",
    "clf.fit(X, y)\n",
    "print(clf.predict([[0, 0, 0, 0]]))"
   ]
  },
  {
   "cell_type": "code",
   "execution_count": null,
   "id": "c53ee380",
   "metadata": {},
   "outputs": [],
   "source": []
  }
 ],
 "metadata": {
  "kernelspec": {
   "display_name": "Python 3",
   "language": "python",
   "name": "python3"
  },
  "language_info": {
   "codemirror_mode": {
    "name": "ipython",
    "version": 3
   },
   "file_extension": ".py",
   "mimetype": "text/x-python",
   "name": "python",
   "nbconvert_exporter": "python",
   "pygments_lexer": "ipython3",
   "version": "3.8.8"
  }
 },
 "nbformat": 4,
 "nbformat_minor": 5
}
